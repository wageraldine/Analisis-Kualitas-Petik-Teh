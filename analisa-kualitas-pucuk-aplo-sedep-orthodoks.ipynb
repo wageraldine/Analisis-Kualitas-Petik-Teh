{
 "cells": [
  {
   "cell_type": "code",
   "execution_count": 1,
   "metadata": {
    "_cell_guid": "b1076dfc-b9ad-4769-8c92-a6c4dae69d19",
    "_kg_hide-input": false,
    "_kg_hide-output": false,
    "_uuid": "8f2839f25d086af736a60e9eeb907d3b93b6e0e5",
    "execution": {
     "iopub.execute_input": "2021-04-16T06:29:56.706348Z",
     "iopub.status.busy": "2021-04-16T06:29:56.705677Z",
     "iopub.status.idle": "2021-04-16T06:29:56.731038Z",
     "shell.execute_reply": "2021-04-16T06:29:56.731801Z"
    },
    "papermill": {
     "duration": 0.043022,
     "end_time": "2021-04-16T06:29:56.732018",
     "exception": false,
     "start_time": "2021-04-16T06:29:56.688996",
     "status": "completed"
    },
    "tags": []
   },
   "outputs": [
    {
     "name": "stdout",
     "output_type": "stream",
     "text": [
      "/kaggle/input/data-kualitas-pucuk-sedep-2/Data_Kualitas_Pucuk.csv\n"
     ]
    }
   ],
   "source": [
    "# This Python 3 environment comes with many helpful analytics libraries installed\n",
    "# It is defined by the kaggle/python Docker image: https://github.com/kaggle/docker-python\n",
    "# For example, here's several helpful packages to load\n",
    "\n",
    "import numpy as np \n",
    "import pandas as pd \n",
    "\n",
    "import os\n",
    "for dirname, _, filenames in os.walk('/kaggle/input'):\n",
    "    for filename in filenames:\n",
    "        print(os.path.join(dirname, filename))\n",
    "        \n",
    "# You can write up to 20GB to the current directory (/kaggle/working/) that gets preserved as output when you create a version using \"Save & Run All\" \n",
    "# You can also write temporary files to /kaggle/temp/, but they won't be saved outside of the current session"
   ]
  },
  {
   "cell_type": "code",
   "execution_count": 2,
   "metadata": {
    "_cell_guid": "79c7e3d0-c299-4dcb-8224-4455121ee9b0",
    "_uuid": "d629ff2d2480ee46fbb7e2d37f6b5fab8052498a",
    "execution": {
     "iopub.execute_input": "2021-04-16T06:29:56.756486Z",
     "iopub.status.busy": "2021-04-16T06:29:56.755641Z",
     "iopub.status.idle": "2021-04-16T06:29:58.062211Z",
     "shell.execute_reply": "2021-04-16T06:29:58.060633Z"
    },
    "papermill": {
     "duration": 1.319853,
     "end_time": "2021-04-16T06:29:58.062342",
     "exception": false,
     "start_time": "2021-04-16T06:29:56.742489",
     "status": "completed"
    },
    "tags": []
   },
   "outputs": [],
   "source": [
    "import matplotlib.pyplot as plt\n",
    "import seaborn as sns\n",
    "from sklearn.linear_model import LinearRegression\n",
    "from sklearn.model_selection import train_test_split"
   ]
  },
  {
   "cell_type": "code",
   "execution_count": 3,
   "metadata": {
    "execution": {
     "iopub.execute_input": "2021-04-16T06:29:58.088754Z",
     "iopub.status.busy": "2021-04-16T06:29:58.088087Z",
     "iopub.status.idle": "2021-04-16T06:29:58.125113Z",
     "shell.execute_reply": "2021-04-16T06:29:58.124052Z"
    },
    "papermill": {
     "duration": 0.052816,
     "end_time": "2021-04-16T06:29:58.125240",
     "exception": false,
     "start_time": "2021-04-16T06:29:58.072424",
     "status": "completed"
    },
    "tags": []
   },
   "outputs": [
    {
     "data": {
      "text/html": [
       "<div>\n",
       "<style scoped>\n",
       "    .dataframe tbody tr th:only-of-type {\n",
       "        vertical-align: middle;\n",
       "    }\n",
       "\n",
       "    .dataframe tbody tr th {\n",
       "        vertical-align: top;\n",
       "    }\n",
       "\n",
       "    .dataframe thead th {\n",
       "        text-align: right;\n",
       "    }\n",
       "</style>\n",
       "<table border=\"1\" class=\"dataframe\">\n",
       "  <thead>\n",
       "    <tr style=\"text-align: right;\">\n",
       "      <th></th>\n",
       "      <th>P+1</th>\n",
       "      <th>P+3</th>\n",
       "      <th>BM+1</th>\n",
       "      <th>BM+2</th>\n",
       "      <th>DM</th>\n",
       "      <th>KSR</th>\n",
       "      <th>RS</th>\n",
       "      <th>GULMA</th>\n",
       "      <th>APLO</th>\n",
       "    </tr>\n",
       "  </thead>\n",
       "  <tbody>\n",
       "    <tr>\n",
       "      <th>0</th>\n",
       "      <td>2</td>\n",
       "      <td>24</td>\n",
       "      <td>2</td>\n",
       "      <td>19</td>\n",
       "      <td>6</td>\n",
       "      <td>57</td>\n",
       "      <td>6</td>\n",
       "      <td>9</td>\n",
       "      <td>53</td>\n",
       "    </tr>\n",
       "    <tr>\n",
       "      <th>1</th>\n",
       "      <td>3</td>\n",
       "      <td>17</td>\n",
       "      <td>2</td>\n",
       "      <td>31</td>\n",
       "      <td>4</td>\n",
       "      <td>60</td>\n",
       "      <td>7</td>\n",
       "      <td>10</td>\n",
       "      <td>52</td>\n",
       "    </tr>\n",
       "    <tr>\n",
       "      <th>2</th>\n",
       "      <td>4</td>\n",
       "      <td>18</td>\n",
       "      <td>2</td>\n",
       "      <td>29</td>\n",
       "      <td>5</td>\n",
       "      <td>57</td>\n",
       "      <td>6</td>\n",
       "      <td>11</td>\n",
       "      <td>51</td>\n",
       "    </tr>\n",
       "    <tr>\n",
       "      <th>3</th>\n",
       "      <td>2</td>\n",
       "      <td>16</td>\n",
       "      <td>2</td>\n",
       "      <td>25</td>\n",
       "      <td>5</td>\n",
       "      <td>67</td>\n",
       "      <td>2</td>\n",
       "      <td>7</td>\n",
       "      <td>48</td>\n",
       "    </tr>\n",
       "    <tr>\n",
       "      <th>4</th>\n",
       "      <td>3</td>\n",
       "      <td>17</td>\n",
       "      <td>1</td>\n",
       "      <td>26</td>\n",
       "      <td>5</td>\n",
       "      <td>68</td>\n",
       "      <td>2</td>\n",
       "      <td>6</td>\n",
       "      <td>48</td>\n",
       "    </tr>\n",
       "  </tbody>\n",
       "</table>\n",
       "</div>"
      ],
      "text/plain": [
       "   P+1  P+3  BM+1  BM+2  DM  KSR  RS  GULMA  APLO\n",
       "0    2   24     2    19   6   57   6      9    53\n",
       "1    3   17     2    31   4   60   7     10    52\n",
       "2    4   18     2    29   5   57   6     11    51\n",
       "3    2   16     2    25   5   67   2      7    48\n",
       "4    3   17     1    26   5   68   2      6    48"
      ]
     },
     "execution_count": 3,
     "metadata": {},
     "output_type": "execute_result"
    }
   ],
   "source": [
    "df = pd.read_csv('/kaggle/input/data-kualitas-pucuk-sedep-2/Data_Kualitas_Pucuk.csv')\n",
    "df.head()"
   ]
  },
  {
   "cell_type": "code",
   "execution_count": 4,
   "metadata": {
    "execution": {
     "iopub.execute_input": "2021-04-16T06:29:58.150949Z",
     "iopub.status.busy": "2021-04-16T06:29:58.150293Z",
     "iopub.status.idle": "2021-04-16T06:29:58.154669Z",
     "shell.execute_reply": "2021-04-16T06:29:58.154154Z"
    },
    "papermill": {
     "duration": 0.020031,
     "end_time": "2021-04-16T06:29:58.154780",
     "exception": false,
     "start_time": "2021-04-16T06:29:58.134749",
     "status": "completed"
    },
    "tags": []
   },
   "outputs": [
    {
     "data": {
      "text/plain": [
       "P+1      int64\n",
       "P+3      int64\n",
       "BM+1     int64\n",
       "BM+2     int64\n",
       "DM       int64\n",
       "KSR      int64\n",
       "RS       int64\n",
       "GULMA    int64\n",
       "APLO     int64\n",
       "dtype: object"
      ]
     },
     "execution_count": 4,
     "metadata": {},
     "output_type": "execute_result"
    }
   ],
   "source": [
    "df.dtypes"
   ]
  },
  {
   "cell_type": "code",
   "execution_count": 5,
   "metadata": {
    "execution": {
     "iopub.execute_input": "2021-04-16T06:29:58.183360Z",
     "iopub.status.busy": "2021-04-16T06:29:58.182660Z",
     "iopub.status.idle": "2021-04-16T06:29:58.220407Z",
     "shell.execute_reply": "2021-04-16T06:29:58.219806Z"
    },
    "papermill": {
     "duration": 0.055798,
     "end_time": "2021-04-16T06:29:58.220534",
     "exception": false,
     "start_time": "2021-04-16T06:29:58.164736",
     "status": "completed"
    },
    "tags": []
   },
   "outputs": [
    {
     "data": {
      "text/html": [
       "<div>\n",
       "<style scoped>\n",
       "    .dataframe tbody tr th:only-of-type {\n",
       "        vertical-align: middle;\n",
       "    }\n",
       "\n",
       "    .dataframe tbody tr th {\n",
       "        vertical-align: top;\n",
       "    }\n",
       "\n",
       "    .dataframe thead th {\n",
       "        text-align: right;\n",
       "    }\n",
       "</style>\n",
       "<table border=\"1\" class=\"dataframe\">\n",
       "  <thead>\n",
       "    <tr style=\"text-align: right;\">\n",
       "      <th></th>\n",
       "      <th>P+1</th>\n",
       "      <th>P+3</th>\n",
       "      <th>BM+1</th>\n",
       "      <th>BM+2</th>\n",
       "      <th>DM</th>\n",
       "      <th>KSR</th>\n",
       "      <th>RS</th>\n",
       "      <th>GULMA</th>\n",
       "      <th>APLO</th>\n",
       "    </tr>\n",
       "  </thead>\n",
       "  <tbody>\n",
       "    <tr>\n",
       "      <th>count</th>\n",
       "      <td>73.000000</td>\n",
       "      <td>73.000000</td>\n",
       "      <td>73.000000</td>\n",
       "      <td>73.000000</td>\n",
       "      <td>73.000000</td>\n",
       "      <td>73.000000</td>\n",
       "      <td>73.000000</td>\n",
       "      <td>73.000000</td>\n",
       "      <td>73.000000</td>\n",
       "    </tr>\n",
       "    <tr>\n",
       "      <th>mean</th>\n",
       "      <td>4.739726</td>\n",
       "      <td>18.356164</td>\n",
       "      <td>1.794521</td>\n",
       "      <td>24.342466</td>\n",
       "      <td>5.178082</td>\n",
       "      <td>63.465753</td>\n",
       "      <td>2.589041</td>\n",
       "      <td>9.041096</td>\n",
       "      <td>50.205479</td>\n",
       "    </tr>\n",
       "    <tr>\n",
       "      <th>std</th>\n",
       "      <td>2.068463</td>\n",
       "      <td>4.008220</td>\n",
       "      <td>0.599975</td>\n",
       "      <td>5.145708</td>\n",
       "      <td>1.071635</td>\n",
       "      <td>4.193521</td>\n",
       "      <td>1.544125</td>\n",
       "      <td>3.380657</td>\n",
       "      <td>2.656015</td>\n",
       "    </tr>\n",
       "    <tr>\n",
       "      <th>min</th>\n",
       "      <td>2.000000</td>\n",
       "      <td>4.000000</td>\n",
       "      <td>1.000000</td>\n",
       "      <td>13.000000</td>\n",
       "      <td>3.000000</td>\n",
       "      <td>53.000000</td>\n",
       "      <td>1.000000</td>\n",
       "      <td>4.000000</td>\n",
       "      <td>43.000000</td>\n",
       "    </tr>\n",
       "    <tr>\n",
       "      <th>25%</th>\n",
       "      <td>3.000000</td>\n",
       "      <td>16.000000</td>\n",
       "      <td>1.000000</td>\n",
       "      <td>22.000000</td>\n",
       "      <td>4.000000</td>\n",
       "      <td>60.000000</td>\n",
       "      <td>1.000000</td>\n",
       "      <td>7.000000</td>\n",
       "      <td>48.000000</td>\n",
       "    </tr>\n",
       "    <tr>\n",
       "      <th>50%</th>\n",
       "      <td>4.000000</td>\n",
       "      <td>18.000000</td>\n",
       "      <td>2.000000</td>\n",
       "      <td>23.000000</td>\n",
       "      <td>5.000000</td>\n",
       "      <td>63.000000</td>\n",
       "      <td>2.000000</td>\n",
       "      <td>8.000000</td>\n",
       "      <td>50.000000</td>\n",
       "    </tr>\n",
       "    <tr>\n",
       "      <th>75%</th>\n",
       "      <td>6.000000</td>\n",
       "      <td>21.000000</td>\n",
       "      <td>2.000000</td>\n",
       "      <td>28.000000</td>\n",
       "      <td>6.000000</td>\n",
       "      <td>67.000000</td>\n",
       "      <td>3.000000</td>\n",
       "      <td>10.000000</td>\n",
       "      <td>52.000000</td>\n",
       "    </tr>\n",
       "    <tr>\n",
       "      <th>max</th>\n",
       "      <td>10.000000</td>\n",
       "      <td>26.000000</td>\n",
       "      <td>3.000000</td>\n",
       "      <td>42.000000</td>\n",
       "      <td>8.000000</td>\n",
       "      <td>74.000000</td>\n",
       "      <td>7.000000</td>\n",
       "      <td>25.000000</td>\n",
       "      <td>55.000000</td>\n",
       "    </tr>\n",
       "  </tbody>\n",
       "</table>\n",
       "</div>"
      ],
      "text/plain": [
       "             P+1        P+3       BM+1       BM+2         DM        KSR  \\\n",
       "count  73.000000  73.000000  73.000000  73.000000  73.000000  73.000000   \n",
       "mean    4.739726  18.356164   1.794521  24.342466   5.178082  63.465753   \n",
       "std     2.068463   4.008220   0.599975   5.145708   1.071635   4.193521   \n",
       "min     2.000000   4.000000   1.000000  13.000000   3.000000  53.000000   \n",
       "25%     3.000000  16.000000   1.000000  22.000000   4.000000  60.000000   \n",
       "50%     4.000000  18.000000   2.000000  23.000000   5.000000  63.000000   \n",
       "75%     6.000000  21.000000   2.000000  28.000000   6.000000  67.000000   \n",
       "max    10.000000  26.000000   3.000000  42.000000   8.000000  74.000000   \n",
       "\n",
       "              RS      GULMA       APLO  \n",
       "count  73.000000  73.000000  73.000000  \n",
       "mean    2.589041   9.041096  50.205479  \n",
       "std     1.544125   3.380657   2.656015  \n",
       "min     1.000000   4.000000  43.000000  \n",
       "25%     1.000000   7.000000  48.000000  \n",
       "50%     2.000000   8.000000  50.000000  \n",
       "75%     3.000000  10.000000  52.000000  \n",
       "max     7.000000  25.000000  55.000000  "
      ]
     },
     "execution_count": 5,
     "metadata": {},
     "output_type": "execute_result"
    }
   ],
   "source": [
    "df.describe()"
   ]
  },
  {
   "cell_type": "code",
   "execution_count": 6,
   "metadata": {
    "execution": {
     "iopub.execute_input": "2021-04-16T06:29:58.249107Z",
     "iopub.status.busy": "2021-04-16T06:29:58.248410Z",
     "iopub.status.idle": "2021-04-16T06:29:59.782782Z",
     "shell.execute_reply": "2021-04-16T06:29:59.782182Z"
    },
    "papermill": {
     "duration": 1.551564,
     "end_time": "2021-04-16T06:29:59.782911",
     "exception": false,
     "start_time": "2021-04-16T06:29:58.231347",
     "status": "completed"
    },
    "tags": []
   },
   "outputs": [
    {
     "data": {
      "text/plain": [
       "<seaborn.axisgrid.PairGrid at 0x7f35d5cd57d0>"
      ]
     },
     "execution_count": 6,
     "metadata": {},
     "output_type": "execute_result"
    },
    {
     "data": {
      "text/plain": [
       "<Figure size 720x576 with 0 Axes>"
      ]
     },
     "metadata": {},
     "output_type": "display_data"
    },
    {
     "data": {
      "image/png": "[encoded data removed]",
      "text/plain": [
       "<Figure size 2160x360 with 8 Axes>"
      ]
     },
     "metadata": {
      "needs_background": "light"
     },
     "output_type": "display_data"
    }
   ],
   "source": [
    "plt.figure(figsize=(10, 8))\n",
    "sns.pairplot(data=df,\n",
    "             x_vars=['P+1', 'P+3', 'BM+1', 'BM+2', 'DM', 'KSR', 'RS', 'GULMA'],\n",
    "             y_vars=['APLO'],\n",
    "             height=5, aspect=0.75)"
   ]
  },
  {
   "cell_type": "code",
   "execution_count": 7,
   "metadata": {
    "execution": {
     "iopub.execute_input": "2021-04-16T06:29:59.820292Z",
     "iopub.status.busy": "2021-04-16T06:29:59.819620Z",
     "iopub.status.idle": "2021-04-16T06:30:00.005524Z",
     "shell.execute_reply": "2021-04-16T06:30:00.006176Z"
    },
    "papermill": {
     "duration": 0.209063,
     "end_time": "2021-04-16T06:30:00.006322",
     "exception": false,
     "start_time": "2021-04-16T06:29:59.797259",
     "status": "completed"
    },
    "tags": []
   },
   "outputs": [
    {
     "data": {
      "text/html": [
       "<style  type=\"text/css\" >\n",
       "#T_2b52f736_9e7d_11eb_9a33_0242ac130202row0_col0,#T_2b52f736_9e7d_11eb_9a33_0242ac130202row1_col1,#T_2b52f736_9e7d_11eb_9a33_0242ac130202row2_col2,#T_2b52f736_9e7d_11eb_9a33_0242ac130202row3_col3,#T_2b52f736_9e7d_11eb_9a33_0242ac130202row4_col4,#T_2b52f736_9e7d_11eb_9a33_0242ac130202row5_col5,#T_2b52f736_9e7d_11eb_9a33_0242ac130202row6_col6,#T_2b52f736_9e7d_11eb_9a33_0242ac130202row7_col7,#T_2b52f736_9e7d_11eb_9a33_0242ac130202row8_col8{\n",
       "            background-color:  #023858;\n",
       "            color:  #f1f1f1;\n",
       "        }#T_2b52f736_9e7d_11eb_9a33_0242ac130202row0_col1{\n",
       "            background-color:  #056dac;\n",
       "            color:  #f1f1f1;\n",
       "        }#T_2b52f736_9e7d_11eb_9a33_0242ac130202row0_col2{\n",
       "            background-color:  #7eadd1;\n",
       "            color:  #000000;\n",
       "        }#T_2b52f736_9e7d_11eb_9a33_0242ac130202row0_col3{\n",
       "            background-color:  #f2ecf5;\n",
       "            color:  #000000;\n",
       "        }#T_2b52f736_9e7d_11eb_9a33_0242ac130202row0_col4{\n",
       "            background-color:  #65a3cb;\n",
       "            color:  #000000;\n",
       "        }#T_2b52f736_9e7d_11eb_9a33_0242ac130202row0_col5{\n",
       "            background-color:  #c2cbe2;\n",
       "            color:  #000000;\n",
       "        }#T_2b52f736_9e7d_11eb_9a33_0242ac130202row0_col6,#T_2b52f736_9e7d_11eb_9a33_0242ac130202row7_col4{\n",
       "            background-color:  #7bacd1;\n",
       "            color:  #000000;\n",
       "        }#T_2b52f736_9e7d_11eb_9a33_0242ac130202row0_col7{\n",
       "            background-color:  #d9d8ea;\n",
       "            color:  #000000;\n",
       "        }#T_2b52f736_9e7d_11eb_9a33_0242ac130202row0_col8{\n",
       "            background-color:  #0a73b2;\n",
       "            color:  #f1f1f1;\n",
       "        }#T_2b52f736_9e7d_11eb_9a33_0242ac130202row1_col0{\n",
       "            background-color:  #0872b1;\n",
       "            color:  #f1f1f1;\n",
       "        }#T_2b52f736_9e7d_11eb_9a33_0242ac130202row1_col2{\n",
       "            background-color:  #62a2cb;\n",
       "            color:  #000000;\n",
       "        }#T_2b52f736_9e7d_11eb_9a33_0242ac130202row1_col3,#T_2b52f736_9e7d_11eb_9a33_0242ac130202row1_col7,#T_2b52f736_9e7d_11eb_9a33_0242ac130202row3_col0,#T_2b52f736_9e7d_11eb_9a33_0242ac130202row3_col1,#T_2b52f736_9e7d_11eb_9a33_0242ac130202row3_col4,#T_2b52f736_9e7d_11eb_9a33_0242ac130202row5_col2,#T_2b52f736_9e7d_11eb_9a33_0242ac130202row5_col6,#T_2b52f736_9e7d_11eb_9a33_0242ac130202row5_col8,#T_2b52f736_9e7d_11eb_9a33_0242ac130202row8_col5{\n",
       "            background-color:  #fff7fb;\n",
       "            color:  #000000;\n",
       "        }#T_2b52f736_9e7d_11eb_9a33_0242ac130202row1_col4,#T_2b52f736_9e7d_11eb_9a33_0242ac130202row2_col4,#T_2b52f736_9e7d_11eb_9a33_0242ac130202row4_col2{\n",
       "            background-color:  #569dc8;\n",
       "            color:  #000000;\n",
       "        }#T_2b52f736_9e7d_11eb_9a33_0242ac130202row1_col5{\n",
       "            background-color:  #dedcec;\n",
       "            color:  #000000;\n",
       "        }#T_2b52f736_9e7d_11eb_9a33_0242ac130202row1_col6,#T_2b52f736_9e7d_11eb_9a33_0242ac130202row5_col3{\n",
       "            background-color:  #71a8ce;\n",
       "            color:  #000000;\n",
       "        }#T_2b52f736_9e7d_11eb_9a33_0242ac130202row1_col8,#T_2b52f736_9e7d_11eb_9a33_0242ac130202row8_col1{\n",
       "            background-color:  #056aa6;\n",
       "            color:  #f1f1f1;\n",
       "        }#T_2b52f736_9e7d_11eb_9a33_0242ac130202row2_col0{\n",
       "            background-color:  #67a4cc;\n",
       "            color:  #000000;\n",
       "        }#T_2b52f736_9e7d_11eb_9a33_0242ac130202row2_col1{\n",
       "            background-color:  #3b92c1;\n",
       "            color:  #000000;\n",
       "        }#T_2b52f736_9e7d_11eb_9a33_0242ac130202row2_col3{\n",
       "            background-color:  #c8cde4;\n",
       "            color:  #000000;\n",
       "        }#T_2b52f736_9e7d_11eb_9a33_0242ac130202row2_col5{\n",
       "            background-color:  #e4e1ef;\n",
       "            color:  #000000;\n",
       "        }#T_2b52f736_9e7d_11eb_9a33_0242ac130202row2_col6{\n",
       "            background-color:  #2383ba;\n",
       "            color:  #000000;\n",
       "        }#T_2b52f736_9e7d_11eb_9a33_0242ac130202row2_col7{\n",
       "            background-color:  #97b7d7;\n",
       "            color:  #000000;\n",
       "        }#T_2b52f736_9e7d_11eb_9a33_0242ac130202row2_col8,#T_2b52f736_9e7d_11eb_9a33_0242ac130202row6_col8{\n",
       "            background-color:  #167bb6;\n",
       "            color:  #000000;\n",
       "        }#T_2b52f736_9e7d_11eb_9a33_0242ac130202row3_col2{\n",
       "            background-color:  #ece7f2;\n",
       "            color:  #000000;\n",
       "        }#T_2b52f736_9e7d_11eb_9a33_0242ac130202row3_col5{\n",
       "            background-color:  #73a9cf;\n",
       "            color:  #000000;\n",
       "        }#T_2b52f736_9e7d_11eb_9a33_0242ac130202row3_col6{\n",
       "            background-color:  #b4c4df;\n",
       "            color:  #000000;\n",
       "        }#T_2b52f736_9e7d_11eb_9a33_0242ac130202row3_col7{\n",
       "            background-color:  #76aad0;\n",
       "            color:  #000000;\n",
       "        }#T_2b52f736_9e7d_11eb_9a33_0242ac130202row3_col8{\n",
       "            background-color:  #d2d2e7;\n",
       "            color:  #000000;\n",
       "        }#T_2b52f736_9e7d_11eb_9a33_0242ac130202row4_col0{\n",
       "            background-color:  #4e9ac6;\n",
       "            color:  #000000;\n",
       "        }#T_2b52f736_9e7d_11eb_9a33_0242ac130202row4_col1{\n",
       "            background-color:  #328dbf;\n",
       "            color:  #000000;\n",
       "        }#T_2b52f736_9e7d_11eb_9a33_0242ac130202row4_col3{\n",
       "            background-color:  #e2dfee;\n",
       "            color:  #000000;\n",
       "        }#T_2b52f736_9e7d_11eb_9a33_0242ac130202row4_col5{\n",
       "            background-color:  #d2d3e7;\n",
       "            color:  #000000;\n",
       "        }#T_2b52f736_9e7d_11eb_9a33_0242ac130202row4_col6{\n",
       "            background-color:  #4697c4;\n",
       "            color:  #000000;\n",
       "        }#T_2b52f736_9e7d_11eb_9a33_0242ac130202row4_col7{\n",
       "            background-color:  #88b1d4;\n",
       "            color:  #000000;\n",
       "        }#T_2b52f736_9e7d_11eb_9a33_0242ac130202row4_col8{\n",
       "            background-color:  #4897c4;\n",
       "            color:  #000000;\n",
       "        }#T_2b52f736_9e7d_11eb_9a33_0242ac130202row5_col0{\n",
       "            background-color:  #d3d4e7;\n",
       "            color:  #000000;\n",
       "        }#T_2b52f736_9e7d_11eb_9a33_0242ac130202row5_col1{\n",
       "            background-color:  #dcdaeb;\n",
       "            color:  #000000;\n",
       "        }#T_2b52f736_9e7d_11eb_9a33_0242ac130202row5_col4{\n",
       "            background-color:  #f1ebf4;\n",
       "            color:  #000000;\n",
       "        }#T_2b52f736_9e7d_11eb_9a33_0242ac130202row5_col7{\n",
       "            background-color:  #d7d6e9;\n",
       "            color:  #000000;\n",
       "        }#T_2b52f736_9e7d_11eb_9a33_0242ac130202row6_col0,#T_2b52f736_9e7d_11eb_9a33_0242ac130202row7_col6{\n",
       "            background-color:  #80aed2;\n",
       "            color:  #000000;\n",
       "        }#T_2b52f736_9e7d_11eb_9a33_0242ac130202row6_col1,#T_2b52f736_9e7d_11eb_9a33_0242ac130202row6_col4{\n",
       "            background-color:  #60a1ca;\n",
       "            color:  #000000;\n",
       "        }#T_2b52f736_9e7d_11eb_9a33_0242ac130202row6_col2{\n",
       "            background-color:  #348ebf;\n",
       "            color:  #000000;\n",
       "        }#T_2b52f736_9e7d_11eb_9a33_0242ac130202row6_col3{\n",
       "            background-color:  #a4bcda;\n",
       "            color:  #000000;\n",
       "        }#T_2b52f736_9e7d_11eb_9a33_0242ac130202row6_col5{\n",
       "            background-color:  #f7f0f7;\n",
       "            color:  #000000;\n",
       "        }#T_2b52f736_9e7d_11eb_9a33_0242ac130202row6_col7{\n",
       "            background-color:  #a9bfdc;\n",
       "            color:  #000000;\n",
       "        }#T_2b52f736_9e7d_11eb_9a33_0242ac130202row7_col0{\n",
       "            background-color:  #b7c5df;\n",
       "            color:  #000000;\n",
       "        }#T_2b52f736_9e7d_11eb_9a33_0242ac130202row7_col1{\n",
       "            background-color:  #d8d7e9;\n",
       "            color:  #000000;\n",
       "        }#T_2b52f736_9e7d_11eb_9a33_0242ac130202row7_col2{\n",
       "            background-color:  #8bb2d4;\n",
       "            color:  #000000;\n",
       "        }#T_2b52f736_9e7d_11eb_9a33_0242ac130202row7_col3{\n",
       "            background-color:  #3f93c2;\n",
       "            color:  #000000;\n",
       "        }#T_2b52f736_9e7d_11eb_9a33_0242ac130202row7_col5{\n",
       "            background-color:  #a2bcda;\n",
       "            color:  #000000;\n",
       "        }#T_2b52f736_9e7d_11eb_9a33_0242ac130202row7_col8{\n",
       "            background-color:  #83afd3;\n",
       "            color:  #000000;\n",
       "        }#T_2b52f736_9e7d_11eb_9a33_0242ac130202row8_col0{\n",
       "            background-color:  #1278b4;\n",
       "            color:  #f1f1f1;\n",
       "        }#T_2b52f736_9e7d_11eb_9a33_0242ac130202row8_col2{\n",
       "            background-color:  #2c89bd;\n",
       "            color:  #000000;\n",
       "        }#T_2b52f736_9e7d_11eb_9a33_0242ac130202row8_col3{\n",
       "            background-color:  #d0d1e6;\n",
       "            color:  #000000;\n",
       "        }#T_2b52f736_9e7d_11eb_9a33_0242ac130202row8_col4{\n",
       "            background-color:  #6fa7ce;\n",
       "            color:  #000000;\n",
       "        }#T_2b52f736_9e7d_11eb_9a33_0242ac130202row8_col6{\n",
       "            background-color:  #1e80b8;\n",
       "            color:  #000000;\n",
       "        }#T_2b52f736_9e7d_11eb_9a33_0242ac130202row8_col7{\n",
       "            background-color:  #b9c6e0;\n",
       "            color:  #000000;\n",
       "        }</style><table id=\"T_2b52f736_9e7d_11eb_9a33_0242ac130202\" ><thead>    <tr>        <th class=\"blank level0\" ></th>        <th class=\"col_heading level0 col0\" >P+1</th>        <th class=\"col_heading level0 col1\" >P+3</th>        <th class=\"col_heading level0 col2\" >BM+1</th>        <th class=\"col_heading level0 col3\" >BM+2</th>        <th class=\"col_heading level0 col4\" >DM</th>        <th class=\"col_heading level0 col5\" >KSR</th>        <th class=\"col_heading level0 col6\" >RS</th>        <th class=\"col_heading level0 col7\" >GULMA</th>        <th class=\"col_heading level0 col8\" >APLO</th>    </tr></thead><tbody>\n",
       "                <tr>\n",
       "                        <th id=\"T_2b52f736_9e7d_11eb_9a33_0242ac130202level0_row0\" class=\"row_heading level0 row0\" >P+1</th>\n",
       "                        <td id=\"T_2b52f736_9e7d_11eb_9a33_0242ac130202row0_col0\" class=\"data row0 col0\" >1.00</td>\n",
       "                        <td id=\"T_2b52f736_9e7d_11eb_9a33_0242ac130202row0_col1\" class=\"data row0 col1\" >0.58</td>\n",
       "                        <td id=\"T_2b52f736_9e7d_11eb_9a33_0242ac130202row0_col2\" class=\"data row0 col2\" >0.24</td>\n",
       "                        <td id=\"T_2b52f736_9e7d_11eb_9a33_0242ac130202row0_col3\" class=\"data row0 col3\" >-0.61</td>\n",
       "                        <td id=\"T_2b52f736_9e7d_11eb_9a33_0242ac130202row0_col4\" class=\"data row0 col4\" >0.32</td>\n",
       "                        <td id=\"T_2b52f736_9e7d_11eb_9a33_0242ac130202row0_col5\" class=\"data row0 col5\" >-0.23</td>\n",
       "                        <td id=\"T_2b52f736_9e7d_11eb_9a33_0242ac130202row0_col6\" class=\"data row0 col6\" >0.15</td>\n",
       "                        <td id=\"T_2b52f736_9e7d_11eb_9a33_0242ac130202row0_col7\" class=\"data row0 col7\" >-0.09</td>\n",
       "                        <td id=\"T_2b52f736_9e7d_11eb_9a33_0242ac130202row0_col8\" class=\"data row0 col8\" >0.54</td>\n",
       "            </tr>\n",
       "            <tr>\n",
       "                        <th id=\"T_2b52f736_9e7d_11eb_9a33_0242ac130202level0_row1\" class=\"row_heading level0 row1\" >P+3</th>\n",
       "                        <td id=\"T_2b52f736_9e7d_11eb_9a33_0242ac130202row1_col0\" class=\"data row1 col0\" >0.58</td>\n",
       "                        <td id=\"T_2b52f736_9e7d_11eb_9a33_0242ac130202row1_col1\" class=\"data row1 col1\" >1.00</td>\n",
       "                        <td id=\"T_2b52f736_9e7d_11eb_9a33_0242ac130202row1_col2\" class=\"data row1 col2\" >0.33</td>\n",
       "                        <td id=\"T_2b52f736_9e7d_11eb_9a33_0242ac130202row1_col3\" class=\"data row1 col3\" >-0.76</td>\n",
       "                        <td id=\"T_2b52f736_9e7d_11eb_9a33_0242ac130202row1_col4\" class=\"data row1 col4\" >0.36</td>\n",
       "                        <td id=\"T_2b52f736_9e7d_11eb_9a33_0242ac130202row1_col5\" class=\"data row1 col5\" >-0.41</td>\n",
       "                        <td id=\"T_2b52f736_9e7d_11eb_9a33_0242ac130202row1_col6\" class=\"data row1 col6\" >0.19</td>\n",
       "                        <td id=\"T_2b52f736_9e7d_11eb_9a33_0242ac130202row1_col7\" class=\"data row1 col7\" >-0.38</td>\n",
       "                        <td id=\"T_2b52f736_9e7d_11eb_9a33_0242ac130202row1_col8\" class=\"data row1 col8\" >0.62</td>\n",
       "            </tr>\n",
       "            <tr>\n",
       "                        <th id=\"T_2b52f736_9e7d_11eb_9a33_0242ac130202level0_row2\" class=\"row_heading level0 row2\" >BM+1</th>\n",
       "                        <td id=\"T_2b52f736_9e7d_11eb_9a33_0242ac130202row2_col0\" class=\"data row2 col0\" >0.24</td>\n",
       "                        <td id=\"T_2b52f736_9e7d_11eb_9a33_0242ac130202row2_col1\" class=\"data row2 col1\" >0.33</td>\n",
       "                        <td id=\"T_2b52f736_9e7d_11eb_9a33_0242ac130202row2_col2\" class=\"data row2 col2\" >1.00</td>\n",
       "                        <td id=\"T_2b52f736_9e7d_11eb_9a33_0242ac130202row2_col3\" class=\"data row2 col3\" >-0.27</td>\n",
       "                        <td id=\"T_2b52f736_9e7d_11eb_9a33_0242ac130202row2_col4\" class=\"data row2 col4\" >0.36</td>\n",
       "                        <td id=\"T_2b52f736_9e7d_11eb_9a33_0242ac130202row2_col5\" class=\"data row2 col5\" >-0.46</td>\n",
       "                        <td id=\"T_2b52f736_9e7d_11eb_9a33_0242ac130202row2_col6\" class=\"data row2 col6\" >0.46</td>\n",
       "                        <td id=\"T_2b52f736_9e7d_11eb_9a33_0242ac130202row2_col7\" class=\"data row2 col7\" >0.19</td>\n",
       "                        <td id=\"T_2b52f736_9e7d_11eb_9a33_0242ac130202row2_col8\" class=\"data row2 col8\" >0.49</td>\n",
       "            </tr>\n",
       "            <tr>\n",
       "                        <th id=\"T_2b52f736_9e7d_11eb_9a33_0242ac130202level0_row3\" class=\"row_heading level0 row3\" >BM+2</th>\n",
       "                        <td id=\"T_2b52f736_9e7d_11eb_9a33_0242ac130202row3_col0\" class=\"data row3 col0\" >-0.61</td>\n",
       "                        <td id=\"T_2b52f736_9e7d_11eb_9a33_0242ac130202row3_col1\" class=\"data row3 col1\" >-0.76</td>\n",
       "                        <td id=\"T_2b52f736_9e7d_11eb_9a33_0242ac130202row3_col2\" class=\"data row3 col2\" >-0.27</td>\n",
       "                        <td id=\"T_2b52f736_9e7d_11eb_9a33_0242ac130202row3_col3\" class=\"data row3 col3\" >1.00</td>\n",
       "                        <td id=\"T_2b52f736_9e7d_11eb_9a33_0242ac130202row3_col4\" class=\"data row3 col4\" >-0.46</td>\n",
       "                        <td id=\"T_2b52f736_9e7d_11eb_9a33_0242ac130202row3_col5\" class=\"data row3 col5\" >0.13</td>\n",
       "                        <td id=\"T_2b52f736_9e7d_11eb_9a33_0242ac130202row3_col6\" class=\"data row3 col6\" >-0.09</td>\n",
       "                        <td id=\"T_2b52f736_9e7d_11eb_9a33_0242ac130202row3_col7\" class=\"data row3 col7\" >0.31</td>\n",
       "                        <td id=\"T_2b52f736_9e7d_11eb_9a33_0242ac130202row3_col8\" class=\"data row3 col8\" >-0.32</td>\n",
       "            </tr>\n",
       "            <tr>\n",
       "                        <th id=\"T_2b52f736_9e7d_11eb_9a33_0242ac130202level0_row4\" class=\"row_heading level0 row4\" >DM</th>\n",
       "                        <td id=\"T_2b52f736_9e7d_11eb_9a33_0242ac130202row4_col0\" class=\"data row4 col0\" >0.32</td>\n",
       "                        <td id=\"T_2b52f736_9e7d_11eb_9a33_0242ac130202row4_col1\" class=\"data row4 col1\" >0.36</td>\n",
       "                        <td id=\"T_2b52f736_9e7d_11eb_9a33_0242ac130202row4_col2\" class=\"data row4 col2\" >0.36</td>\n",
       "                        <td id=\"T_2b52f736_9e7d_11eb_9a33_0242ac130202row4_col3\" class=\"data row4 col3\" >-0.46</td>\n",
       "                        <td id=\"T_2b52f736_9e7d_11eb_9a33_0242ac130202row4_col4\" class=\"data row4 col4\" >1.00</td>\n",
       "                        <td id=\"T_2b52f736_9e7d_11eb_9a33_0242ac130202row4_col5\" class=\"data row4 col5\" >-0.32</td>\n",
       "                        <td id=\"T_2b52f736_9e7d_11eb_9a33_0242ac130202row4_col6\" class=\"data row4 col6\" >0.33</td>\n",
       "                        <td id=\"T_2b52f736_9e7d_11eb_9a33_0242ac130202row4_col7\" class=\"data row4 col7\" >0.25</td>\n",
       "                        <td id=\"T_2b52f736_9e7d_11eb_9a33_0242ac130202row4_col8\" class=\"data row4 col8\" >0.28</td>\n",
       "            </tr>\n",
       "            <tr>\n",
       "                        <th id=\"T_2b52f736_9e7d_11eb_9a33_0242ac130202level0_row5\" class=\"row_heading level0 row5\" >KSR</th>\n",
       "                        <td id=\"T_2b52f736_9e7d_11eb_9a33_0242ac130202row5_col0\" class=\"data row5 col0\" >-0.23</td>\n",
       "                        <td id=\"T_2b52f736_9e7d_11eb_9a33_0242ac130202row5_col1\" class=\"data row5 col1\" >-0.41</td>\n",
       "                        <td id=\"T_2b52f736_9e7d_11eb_9a33_0242ac130202row5_col2\" class=\"data row5 col2\" >-0.46</td>\n",
       "                        <td id=\"T_2b52f736_9e7d_11eb_9a33_0242ac130202row5_col3\" class=\"data row5 col3\" >0.13</td>\n",
       "                        <td id=\"T_2b52f736_9e7d_11eb_9a33_0242ac130202row5_col4\" class=\"data row5 col4\" >-0.32</td>\n",
       "                        <td id=\"T_2b52f736_9e7d_11eb_9a33_0242ac130202row5_col5\" class=\"data row5 col5\" >1.00</td>\n",
       "                        <td id=\"T_2b52f736_9e7d_11eb_9a33_0242ac130202row5_col6\" class=\"data row5 col6\" >-0.64</td>\n",
       "                        <td id=\"T_2b52f736_9e7d_11eb_9a33_0242ac130202row5_col7\" class=\"data row5 col7\" >-0.07</td>\n",
       "                        <td id=\"T_2b52f736_9e7d_11eb_9a33_0242ac130202row5_col8\" class=\"data row5 col8\" >-0.74</td>\n",
       "            </tr>\n",
       "            <tr>\n",
       "                        <th id=\"T_2b52f736_9e7d_11eb_9a33_0242ac130202level0_row6\" class=\"row_heading level0 row6\" >RS</th>\n",
       "                        <td id=\"T_2b52f736_9e7d_11eb_9a33_0242ac130202row6_col0\" class=\"data row6 col0\" >0.15</td>\n",
       "                        <td id=\"T_2b52f736_9e7d_11eb_9a33_0242ac130202row6_col1\" class=\"data row6 col1\" >0.19</td>\n",
       "                        <td id=\"T_2b52f736_9e7d_11eb_9a33_0242ac130202row6_col2\" class=\"data row6 col2\" >0.46</td>\n",
       "                        <td id=\"T_2b52f736_9e7d_11eb_9a33_0242ac130202row6_col3\" class=\"data row6 col3\" >-0.09</td>\n",
       "                        <td id=\"T_2b52f736_9e7d_11eb_9a33_0242ac130202row6_col4\" class=\"data row6 col4\" >0.33</td>\n",
       "                        <td id=\"T_2b52f736_9e7d_11eb_9a33_0242ac130202row6_col5\" class=\"data row6 col5\" >-0.64</td>\n",
       "                        <td id=\"T_2b52f736_9e7d_11eb_9a33_0242ac130202row6_col6\" class=\"data row6 col6\" >1.00</td>\n",
       "                        <td id=\"T_2b52f736_9e7d_11eb_9a33_0242ac130202row6_col7\" class=\"data row6 col7\" >0.13</td>\n",
       "                        <td id=\"T_2b52f736_9e7d_11eb_9a33_0242ac130202row6_col8\" class=\"data row6 col8\" >0.48</td>\n",
       "            </tr>\n",
       "            <tr>\n",
       "                        <th id=\"T_2b52f736_9e7d_11eb_9a33_0242ac130202level0_row7\" class=\"row_heading level0 row7\" >GULMA</th>\n",
       "                        <td id=\"T_2b52f736_9e7d_11eb_9a33_0242ac130202row7_col0\" class=\"data row7 col0\" >-0.09</td>\n",
       "                        <td id=\"T_2b52f736_9e7d_11eb_9a33_0242ac130202row7_col1\" class=\"data row7 col1\" >-0.38</td>\n",
       "                        <td id=\"T_2b52f736_9e7d_11eb_9a33_0242ac130202row7_col2\" class=\"data row7 col2\" >0.19</td>\n",
       "                        <td id=\"T_2b52f736_9e7d_11eb_9a33_0242ac130202row7_col3\" class=\"data row7 col3\" >0.31</td>\n",
       "                        <td id=\"T_2b52f736_9e7d_11eb_9a33_0242ac130202row7_col4\" class=\"data row7 col4\" >0.25</td>\n",
       "                        <td id=\"T_2b52f736_9e7d_11eb_9a33_0242ac130202row7_col5\" class=\"data row7 col5\" >-0.07</td>\n",
       "                        <td id=\"T_2b52f736_9e7d_11eb_9a33_0242ac130202row7_col6\" class=\"data row7 col6\" >0.13</td>\n",
       "                        <td id=\"T_2b52f736_9e7d_11eb_9a33_0242ac130202row7_col7\" class=\"data row7 col7\" >1.00</td>\n",
       "                        <td id=\"T_2b52f736_9e7d_11eb_9a33_0242ac130202row7_col8\" class=\"data row7 col8\" >0.06</td>\n",
       "            </tr>\n",
       "            <tr>\n",
       "                        <th id=\"T_2b52f736_9e7d_11eb_9a33_0242ac130202level0_row8\" class=\"row_heading level0 row8\" >APLO</th>\n",
       "                        <td id=\"T_2b52f736_9e7d_11eb_9a33_0242ac130202row8_col0\" class=\"data row8 col0\" >0.54</td>\n",
       "                        <td id=\"T_2b52f736_9e7d_11eb_9a33_0242ac130202row8_col1\" class=\"data row8 col1\" >0.62</td>\n",
       "                        <td id=\"T_2b52f736_9e7d_11eb_9a33_0242ac130202row8_col2\" class=\"data row8 col2\" >0.49</td>\n",
       "                        <td id=\"T_2b52f736_9e7d_11eb_9a33_0242ac130202row8_col3\" class=\"data row8 col3\" >-0.32</td>\n",
       "                        <td id=\"T_2b52f736_9e7d_11eb_9a33_0242ac130202row8_col4\" class=\"data row8 col4\" >0.28</td>\n",
       "                        <td id=\"T_2b52f736_9e7d_11eb_9a33_0242ac130202row8_col5\" class=\"data row8 col5\" >-0.74</td>\n",
       "                        <td id=\"T_2b52f736_9e7d_11eb_9a33_0242ac130202row8_col6\" class=\"data row8 col6\" >0.48</td>\n",
       "                        <td id=\"T_2b52f736_9e7d_11eb_9a33_0242ac130202row8_col7\" class=\"data row8 col7\" >0.06</td>\n",
       "                        <td id=\"T_2b52f736_9e7d_11eb_9a33_0242ac130202row8_col8\" class=\"data row8 col8\" >1.00</td>\n",
       "            </tr>\n",
       "    </tbody></table>"
      ],
      "text/plain": [
       "<pandas.io.formats.style.Styler at 0x7f35d5a5db50>"
      ]
     },
     "execution_count": 7,
     "metadata": {},
     "output_type": "execute_result"
    }
   ],
   "source": [
    "df.corr().style.background_gradient().set_precision(2)"
   ]
  },
  {
   "cell_type": "code",
   "execution_count": 8,
   "metadata": {
    "execution": {
     "iopub.execute_input": "2021-04-16T06:30:00.084170Z",
     "iopub.status.busy": "2021-04-16T06:30:00.078853Z",
     "iopub.status.idle": "2021-04-16T06:30:00.089693Z",
     "shell.execute_reply": "2021-04-16T06:30:00.089055Z"
    },
    "papermill": {
     "duration": 0.069329,
     "end_time": "2021-04-16T06:30:00.089819",
     "exception": false,
     "start_time": "2021-04-16T06:30:00.020490",
     "status": "completed"
    },
    "tags": []
   },
   "outputs": [
    {
     "data": {
      "text/plain": [
       "0.6977623938344446"
      ]
     },
     "execution_count": 8,
     "metadata": {},
     "output_type": "execute_result"
    }
   ],
   "source": [
    "x = df.drop(columns='APLO')\n",
    "y = df['APLO']\n",
    "\n",
    "x_train, x_test, y_train, y_test = train_test_split(x,\n",
    "                                                    y,\n",
    "                                                    test_size=0.2,\n",
    "                                                    random_state=0)\n",
    "\n",
    "model = LinearRegression()\n",
    "\n",
    "model.fit(x_train, y_train)\n",
    "\n",
    "model.score(x_test, y_test)"
   ]
  },
  {
   "cell_type": "code",
   "execution_count": 9,
   "metadata": {
    "execution": {
     "iopub.execute_input": "2021-04-16T06:30:00.129188Z",
     "iopub.status.busy": "2021-04-16T06:30:00.128139Z",
     "iopub.status.idle": "2021-04-16T06:30:00.133144Z",
     "shell.execute_reply": "2021-04-16T06:30:00.132548Z"
    },
    "papermill": {
     "duration": 0.027493,
     "end_time": "2021-04-16T06:30:00.133262",
     "exception": false,
     "start_time": "2021-04-16T06:30:00.105769",
     "status": "completed"
    },
    "tags": []
   },
   "outputs": [
    {
     "data": {
      "text/plain": [
       "array([52.20333217])"
      ]
     },
     "execution_count": 9,
     "metadata": {},
     "output_type": "execute_result"
    }
   ],
   "source": [
    "model.predict([[2, 24, 2, 19, 6, 57, 10, 6]])"
   ]
  },
  {
   "cell_type": "code",
   "execution_count": 10,
   "metadata": {
    "execution": {
     "iopub.execute_input": "2021-04-16T06:30:00.171794Z",
     "iopub.status.busy": "2021-04-16T06:30:00.170994Z",
     "iopub.status.idle": "2021-04-16T06:30:00.173814Z",
     "shell.execute_reply": "2021-04-16T06:30:00.173161Z"
    },
    "papermill": {
     "duration": 0.024106,
     "end_time": "2021-04-16T06:30:00.173927",
     "exception": false,
     "start_time": "2021-04-16T06:30:00.149821",
     "status": "completed"
    },
    "tags": []
   },
   "outputs": [],
   "source": [
    "import pickle\n",
    "pickle.dump(model, open('model_prediksi_aplo.sav', 'wb'))"
   ]
  },
  {
   "cell_type": "code",
   "execution_count": 11,
   "metadata": {
    "execution": {
     "iopub.execute_input": "2021-04-16T06:30:00.210113Z",
     "iopub.status.busy": "2021-04-16T06:30:00.209419Z",
     "iopub.status.idle": "2021-04-16T06:30:00.220440Z",
     "shell.execute_reply": "2021-04-16T06:30:00.220905Z"
    },
    "papermill": {
     "duration": 0.032254,
     "end_time": "2021-04-16T06:30:00.221064",
     "exception": false,
     "start_time": "2021-04-16T06:30:00.188810",
     "status": "completed"
    },
    "tags": []
   },
   "outputs": [
    {
     "name": "stdout",
     "output_type": "stream",
     "text": [
      "Accuracy Model :  0.6977623938344446\n"
     ]
    },
    {
     "data": {
      "text/plain": [
       "array([52.20333217])"
      ]
     },
     "execution_count": 11,
     "metadata": {},
     "output_type": "execute_result"
    }
   ],
   "source": [
    "loaded_model = pickle.load(open('model_prediksi_aplo.sav', 'rb'))\n",
    "result = loaded_model.score(x_test, y_test)\n",
    "print('Accuracy Model : ',result)\n",
    "loaded_model.predict([[2, 24, 2, 19, 6, 57, 10, 6]])"
   ]
  }
 ],
 "metadata": {
  "kernelspec": {
   "display_name": "Python 3",
   "language": "python",
   "name": "python3"
  },
  "language_info": {
   "codemirror_mode": {
    "name": "ipython",
    "version": 3
   },
   "file_extension": ".py",
   "mimetype": "text/x-python",
   "name": "python",
   "nbconvert_exporter": "python",
   "pygments_lexer": "ipython3",
   "version": "3.7.6"
  },
  "papermill": {
   "duration": 8.857302,
   "end_time": "2021-04-16T06:30:00.345311",
   "environment_variables": {},
   "exception": null,
   "input_path": "__notebook__.ipynb",
   "output_path": "__notebook__.ipynb",
   "parameters": {},
   "start_time": "2021-04-16T06:29:51.488009",
   "version": "2.1.0"
  }
 },
 "nbformat": 4,
 "nbformat_minor": 4
}
